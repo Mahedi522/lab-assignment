{
 "cells": [
  {
   "cell_type": "code",
   "execution_count": 1,
   "metadata": {},
   "outputs": [],
   "source": [
    "import numpy as npy\n",
    "import matplotlib.pyplot as plot\n",
    "from matplotlib.font_manager import FontProperties\n",
    "\n",
    "def x(letters,counts) :\n",
    "    y_pos = npy.arange(len(letters))\n",
    "    plot.figure(figsize=(23, 6)) \n",
    "    prop = FontProperties()\n",
    "    prop.set_file('C:\\\\Users\\Mahedi-Al-Arafat\\\\Desktop\\\\lab assignment\\\\Siyamrupali.ttf')\n",
    "    plot.bar(y_pos, counts, align='center', alpha=0.5)\n",
    "    plot.xticks(y_pos, letters, fontproperties=prop, fontsize=20)\n",
    "    plot.ylabel('Frequency')\n",
    "    plot.title('Bangla letter counter')\n",
    "\n",
    "    plot.show()"
   ]
  },
  {
   "cell_type": "code",
   "execution_count": 61,
   "metadata": {},
   "outputs": [
    {
     "data": {
      "image/png": "[encoded data removed]",
      "text/plain": [
       "<Figure size 1656x432 with 1 Axes>"
      ]
     },
     "metadata": {
      "needs_background": "light"
     },
     "output_type": "display_data"
    },
    {
     "name": "stdout",
     "output_type": "stream",
     "text": [
      "মোট বর্ণ আছে 2149 টা\n",
      "\n",
      "'া' আছে 209 টা,শতকরা 9.725 % \n",
      "'ে' আছে 209 টা,শতকরা 9.725 % \n",
      "'র' আছে 181 টা,শতকরা 8.423 % \n",
      "'্' আছে 166 টা,শতকরা 7.725 % \n",
      "'ক' আছে 123 টা,শতকরা 5.724 % \n",
      "'ি' আছে 106 টা,শতকরা 4.933 % \n",
      "'ন' আছে 89 টা,শতকরা 4.141 % \n",
      "'স' আছে 77 টা,শতকরা 3.583 % \n",
      "'ব' আছে 71 টা,শতকরা 3.304 % \n",
      "'প' আছে 64 টা,শতকরা 2.978 % \n",
      "'ত' আছে 57 টা,শতকরা 2.652 % \n",
      "'ম' আছে 56 টা,শতকরা 2.606 % \n",
      "'ট' আছে 54 টা,শতকরা 2.513 % \n",
      "'ল' আছে 52 টা,শতকরা 2.420 % \n",
      "'দ' আছে 43 টা,শতকরা 2.001 % \n",
      "'য' আছে 42 টা,শতকরা 1.954 % \n",
      "'য়' আছে 38 টা,শতকরা 1.768 % \n",
      "'হ' আছে 35 টা,শতকরা 1.629 % \n",
      "'শ' আছে 33 টা,শতকরা 1.536 % \n",
      "'গ' আছে 31 টা,শতকরা 1.443 % \n",
      "'ু' আছে 31 টা,শতকরা 1.443 % \n",
      "'জ' আছে 29 টা,শতকরা 1.349 % \n",
      "'।' আছে 28 টা,শতকরা 1.303 % \n",
      "'ছ' আছে 27 টা,শতকরা 1.256 % \n",
      "'ষ' আছে 26 টা,শতকরা 1.210 % \n",
      "'ও' আছে 24 টা,শতকরা 1.117 % \n",
      "'ণ' আছে 20 টা,শতকরা 0.931 % \n",
      "'ো' আছে 19 টা,শতকরা 0.884 % \n",
      "'আ' আছে 16 টা,শতকরা 0.745 % \n",
      "'ই' আছে 15 টা,শতকরা 0.698 % \n",
      "'এ' আছে 14 টা,শতকরা 0.651 % \n",
      "',' আছে 13 টা,শতকরা 0.605 % \n",
      "'থ' আছে 13 টা,শতকরা 0.605 % \n",
      "'ী' আছে 13 টা,শতকরা 0.605 % \n",
      "'চ' আছে 11 টা,শতকরা 0.512 % \n",
      "'খ' আছে 10 টা,শতকরা 0.465 % \n",
      "'ধ' আছে 10 টা,শতকরা 0.465 % \n",
      "'উ' আছে 9 টা,শতকরা 0.419 % \n",
      "'ফ' আছে 9 টা,শতকরা 0.419 % \n",
      "'ভ' আছে 8 টা,শতকরা 0.372 % \n",
      "'ঁ' আছে 7 টা,শতকরা 0.326 % \n",
      "'অ' আছে 7 টা,শতকরা 0.326 % \n",
      "'ঙ' আছে 6 টা,শতকরা 0.279 % \n",
      "'়' আছে 6 টা,শতকরা 0.279 % \n",
      "'ং' আছে 5 টা,শতকরা 0.233 % \n",
      "'ঞ' আছে 5 টা,শতকরা 0.233 % \n",
      "'ড' আছে 5 টা,শতকরা 0.233 % \n",
      "'ৌ' আছে 3 টা,শতকরা 0.140 % \n",
      "'ৎ' আছে 3 টা,শতকরা 0.140 % \n",
      "'ড়' আছে 3 টা,শতকরা 0.140 % \n",
      "'.' আছে 2 টা,শতকরা 0.093 % \n",
      "'ূ' আছে 2 টা,শতকরা 0.093 % \n",
      "'ৃ' আছে 2 টা,শতকরা 0.093 % \n",
      "'০' আছে 2 টা,শতকরা 0.093 % \n",
      "'‘' আছে 2 টা,শতকরা 0.093 % \n",
      "'’' আছে 2 টা,শতকরা 0.093 % \n",
      "'-' আছে 1 টা,শতকরা 0.047 % \n",
      "'ঘ' আছে 1 টা,শতকরা 0.047 % \n",
      "'ঝ' আছে 1 টা,শতকরা 0.047 % \n",
      "'ঠ' আছে 1 টা,শতকরা 0.047 % \n",
      "'ৈ' আছে 1 টা,শতকরা 0.047 % \n",
      "'৩' আছে 1 টা,শতকরা 0.047 % \n"
     ]
    }
   ],
   "source": [
    "from collections import defaultdict \n",
    "\n",
    "def count(k):\n",
    "    m = defaultdict(int)\n",
    "    tot = 0\n",
    "    for i in k :\n",
    "        if(i == \"\\n\" or i == \" \") :\n",
    "            continue \n",
    "        m[i] += 1 \n",
    "        tot += 1 \n",
    "    letters = list(m)\n",
    "    letters.sort()\n",
    "    counts = list(map(lambda x: m[x] , letters)) \n",
    "    percentage = list(map(lambda x : ((x/tot)*100),counts))\n",
    "    x(letters,counts)\n",
    "    arr = list(zip(letters,counts,percentage))\n",
    "    arr.sort(key=lambda x : -x[1])\n",
    "    print(\"মোট বর্ণ আছে {} টা\\n\".format(tot))\n",
    "    for i in arr :\n",
    "        print(\"'{}' আছে {} টা,শতকরা {:.3f} % \".format(i[0],i[1],i[2]))\n",
    "\n",
    "letter = '''জেলা মৎস্য কর্মকর্তা এস এম খালেকুজ্জামানের দেওয়া তথ্যমতে, কক্সবাজার উপকূলে বছরে প্রায় ৩০০ কোটি টাকার শুঁটকি উৎপাদিত হয়।\n",
    "এর এক-তৃতীয়াংশ লইট্টা শুঁটকি। গবেষক দলের সদস্য ও চট্টগ্রাম বিশ্ববিদ্যালয়ের ইনস্টিটিউট অব মেরিন সায়েন্সেসের অধ্যাপক মো. শাহাদাত হোসেন\n",
    "প্রথম আলোকে বলেন, ‘বিশ্বের বিভিন্ন দেশে প্লাস্টিক কণাকে আগামী দিনের জন্য অন্যতম ক্ষতিকারক উপাদান হিসেবে দেখা হচ্ছে। প্লাস্টিক ব্যবহারের\n",
    "ক্ষেত্রে আমাদের আরও সাবধান হতে হবে। কারণ এটি ঘুরেফিরে আমাদের দেহে প্রবেশ করছে।’গবেষক দলের সদস্যদের ভাষ্য, যেসব প্রাণীর দেহে \n",
    "প্লাস্টিক কণার উপস্থিতি নিয়ে গবেষণা হয়েছে তার মধ্যে সবচেয়ে বিপজ্জনক বার্তা দিচ্ছে লইট্টা। এই মাছ শুঁটকি করার সময় এর পাকস্থলী ও পরিপাকতন্ত্র \n",
    "কেটে ফেলা হয় না। ফলে প্লাস্টিক কণাসহ সেটি শুঁটকিতে পরিণত হয়। খাবারের সঙ্গে তা মানুষের শরীরে প্রবেশ করে।যদিও সার্ডিন রান্না করার ক্ষেত্রে \n",
    "পরিপাকতন্ত্র ফেলে দেওয়া হয়। তবে হোটেলসহ বিভিন্ন অনুষ্ঠানে বড় চিংড়ি রান্না করার ক্ষেত্রে খোলস রেখে দেওয়া হয়। ফলে প্লাস্টিক কণা ওই খোলসের\n",
    "মধ্যে থেকে যায়। রান্নার সঙ্গে সেটিও প্রবেশ করে মানবদেহে।সরকারের সামুদ্রিক মৎস্য জরিপ ব্যবস্থাপনা ইউনিটের প্রধান বৈজ্ঞানিক কর্মকর্তা মো. শরিফ\n",
    "উদ্দিন প্রথম আলোকে বলেন, ‘আমরা সামুদ্রিক মাছের পরিমাণ ও ধরন নিয়ে জরিপ করছি। তাই সেখানকার মাছের মধ্যে যাতে ক্ষুদ্র প্লাস্টিক কণা প্রবেশ\n",
    "করতে না পারে, সে জন্য আমাদের আগে থেকে সাবধান হতে হবে। জেলেরা যাতে নৌকায় করে প্লাস্টিক সামগ্রী না নেয়, জাহাজ থেকে প্লাস্টিক সামগ্রী \n",
    "সাগরে ফেলা না হয়, সে জন্য সংশ্লিষ্টদের দায়িত্বশীল হতে হবে।’বিজ্ঞাপনলইট্টা মাছের ভরা মৌসুম শুরু হয়ে গেছে। বঙ্গোপসাগর থেকে জেলেরা নৌকা \n",
    "ভর্তি করে লইট্টা নিয়ে উপকূলে ফিরতে শুরু করেছেন। এর বেশির ভাগেরই গন্তব্য শুঁটকি প্রক্রিয়াজাত কারখানা। দেশের একদল গবেষক জানাচ্ছেন, \n",
    "অনেকের পছন্দের এই মাছের মধ্যে নতুন এক বিপদ লুকিয়ে আছে। এর পরিপাকতন্ত্রে পাওয়া গেছে প্লাস্টিক কণা, যা মানুষসহ যেকোনো প্রাণীর জন্য \n",
    "মারাত্মক ক্ষতিকর।চট্টগ্রাম বিশ্ববিদ্যালয় ও শাহজালাল বিজ্ঞান ও প্রযুক্তি বিশ্ববিদ্যালয়ের চার গবেষক বঙ্গোপসাগর থেকে আহরিত ওই মাছের পেটে খাবারের\n",
    "সঙ্গে প্লাস্টিক কণা পেয়েছেন। ক্ষতিকর এই বস্তুটি পাওয়া গেছে সামুদ্রিক মাছ সার্ডিন ও চিংড়ির দেহেও। সামুদ্রিক সবুজ শামুক ও কাঁকড়ার পাকস্থলীতেও \n",
    "প্লাস্টিক কণা পেয়েছে গবেষক দলটি।স্বাস্থ্যবিশেষজ্ঞরা জানিয়েছেন, প্লাস্টিক কণা যেকোনো প্রাণীর জন্যই ক্ষতিকারক। ক্যানসার, শ্বাসকষ্ট, হজমের সমস্যাসহ\n",
    "নানা ধরনের রোগের কারণ হতে পারে কৃত্রিম উপাদানটি, যা নিয়মিতভাবে খাবারের সঙ্গে মানুষের শরীরে প্রবেশ করলে আরও নানা রোগে আক্রান্ত হওয়ার\n",
    "ঝুঁকি রয়েছে। লইট্টা ও সার্ডিনের ওপর করা গবেষণাটি সায়েন্স অব দ্য টোটাল এনভায়রনমেন্ট আর চিংড়ির ওপর করা গবেষণাটি ক্যামোস্ফেয়ার নামের \n",
    "আন্তর্জাতিক বিজ্ঞান সাময়িকীতে চলতি বছরের শুরুতে প্রকাশিত হয়েছে। বাকি গবেষণা দুটি প্রকাশের অপেক্ষায় আছে।'''\n",
    "count(letter)\n",
    " "
   ]
  },
  {
   "cell_type": "code",
   "execution_count": null,
   "metadata": {},
   "outputs": [],
   "source": []
  },
  {
   "cell_type": "code",
   "execution_count": null,
   "metadata": {},
   "outputs": [],
   "source": []
  }
 ],
 "metadata": {
  "kernelspec": {
   "display_name": "Python 3",
   "language": "python",
   "name": "python3"
  },
  "language_info": {
   "codemirror_mode": {
    "name": "ipython",
    "version": 3
   },
   "file_extension": ".py",
   "mimetype": "text/x-python",
   "name": "python",
   "nbconvert_exporter": "python",
   "pygments_lexer": "ipython3",
   "version": "3.8.3"
  }
 },
 "nbformat": 4,
 "nbformat_minor": 2
}
