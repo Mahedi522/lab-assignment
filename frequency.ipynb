{
 "cells": [
  {
   "cell_type": "code",
   "execution_count": null,
   "metadata": {},
   "outputs": [],
   "source": [
    "import numpy as np\n",
    "import matplotlib.pyplot as plt\n",
    "from matplotlib.font_manager import FontProperties\n",
    "\n",
    "def fun(letters,counts) :\n",
    "    y_pos = np.arange(len(letters))\n",
    "    plt.figure(figsize=(23, 6)) \n",
    "    prop = FontProperties()\n",
    "    prop.set_file('C:\\Users\\Mahedi-Al-Arafat\\Desktop\\lab assignment\\Rajon_Shoily.ttf')\n",
    "    plt.bar(y_pos, counts, align='center', alpha=0.5)\n",
    "    plt.xticks(y_pos, letters, fontproperties=prop, fontsize=20)\n",
    "    plt.ylabel('Frequency')\n",
    "    plt.title('Bangla letter counter')\n",
    "\n",
    "    plt.show()"
   ]
  },
  {
   "cell_type": "code",
   "execution_count": 16,
   "metadata": {},
   "outputs": [
    {
     "data": {
      "image/png": "[encoded data removed]",
      "text/plain": [
       "<Figure size 1656x432 with 1 Axes>"
      ]
     },
     "metadata": {},
     "output_type": "display_data"
    },
    {
     "name": "stdout",
     "output_type": "stream",
     "text": [
      "মোট বর্ণ 354 টা\n",
      "\n",
      "'ে' আছে 38 টা,পার্সেন্টিজ 10.734 % \n",
      "'র' আছে 28 টা,পার্সেন্টিজ 7.910 % \n",
      "'া' আছে 26 টা,পার্সেন্টিজ 7.345 % \n",
      "'্' আছে 23 টা,পার্সেন্টিজ 6.497 % \n",
      "'ব' আছে 19 টা,পার্সেন্টিজ 5.367 % \n",
      "'ক' আছে 18 টা,পার্সেন্টিজ 5.085 % \n",
      "'ন' আছে 14 টা,পার্সেন্টিজ 3.955 % \n",
      "'ি' আছে 13 টা,পার্সেন্টিজ 3.672 % \n",
      "'স' আছে 11 টা,পার্সেন্টিজ 3.107 % \n",
      "'ধ' আছে 10 টা,পার্সেন্টিজ 2.825 % \n",
      "'ী' আছে 10 টা,পার্সেন্টিজ 2.825 % \n",
      "'ল' আছে 9 টা,পার্সেন্টিজ 2.542 % \n",
      "'ম' আছে 8 টা,পার্সেন্টিজ 2.260 % \n",
      "'ষ' আছে 8 টা,পার্সেন্টিজ 2.260 % \n",
      "'জ' আছে 7 টা,পার্সেন্টিজ 1.977 % \n",
      "'ণ' আছে 7 টা,পার্সেন্টিজ 1.977 % \n",
      "'ত' আছে 7 টা,পার্সেন্টিজ 1.977 % \n",
      "'হ' আছে 7 টা,পার্সেন্টিজ 1.977 % \n",
      "',' আছে 6 টা,পার্সেন্টিজ 1.695 % \n",
      "'।' আছে 6 টা,পার্সেন্টিজ 1.695 % \n",
      "'থ' আছে 6 টা,পার্সেন্টিজ 1.695 % \n",
      "'দ' আছে 6 টা,পার্সেন্টিজ 1.695 % \n",
      "'ই' আছে 5 টা,পার্সেন্টিজ 1.412 % \n",
      "'গ' আছে 5 টা,পার্সেন্টিজ 1.412 % \n",
      "'ছ' আছে 5 টা,পার্সেন্টিজ 1.412 % \n",
      "'ট' আছে 5 টা,পার্সেন্টিজ 1.412 % \n",
      "'ও' আছে 4 টা,পার্সেন্টিজ 1.130 % \n",
      "'শ' আছে 4 টা,পার্সেন্টিজ 1.130 % \n",
      "'ঘ' আছে 3 টা,পার্সেন্টিজ 0.847 % \n",
      "'প' আছে 3 টা,পার্সেন্টিজ 0.847 % \n",
      "'য' আছে 3 টা,পার্সেন্টিজ 0.847 % \n",
      "'ু' আছে 3 টা,পার্সেন্টিজ 0.847 % \n",
      "'ূ' আছে 3 টা,পার্সেন্টিজ 0.847 % \n",
      "'ো' আছে 3 টা,পার্সেন্টিজ 0.847 % \n",
      "'এ' আছে 2 টা,পার্সেন্টিজ 0.565 % \n",
      "'চ' আছে 2 টা,পার্সেন্টিজ 0.565 % \n",
      "'ৃ' আছে 2 টা,পার্সেন্টিজ 0.565 % \n",
      "'য়' আছে 2 টা,পার্সেন্টিজ 0.565 % \n",
      "'-' আছে 1 টা,পার্সেন্টিজ 0.282 % \n",
      "'ঁ' আছে 1 টা,পার্সেন্টিজ 0.282 % \n",
      "'ং' আছে 1 টা,পার্সেন্টিজ 0.282 % \n",
      "'উ' আছে 1 টা,পার্সেন্টিজ 0.282 % \n",
      "'ঐ' আছে 1 টা,পার্সেন্টিজ 0.282 % \n",
      "'খ' আছে 1 টা,পার্সেন্টিজ 0.282 % \n",
      "'ফ' আছে 1 টা,পার্সেন্টিজ 0.282 % \n",
      "'ভ' আছে 1 টা,পার্সেন্টিজ 0.282 % \n",
      "'ৎ' আছে 1 টা,পার্সেন্টিজ 0.282 % \n",
      "'ড়' আছে 1 টা,পার্সেন্টিজ 0.282 % \n",
      "'২' আছে 1 টা,পার্সেন্টিজ 0.282 % \n",
      "'৫' আছে 1 টা,পার্সেন্টিজ 0.282 % \n",
      "'৯' আছে 1 টা,পার্সেন্টিজ 0.282 % \n"
     ]
    }
   ],
   "source": [
    "from collections import defaultdict \n",
    "\n",
    "def func(k):\n",
    "    m = defaultdict(int)\n",
    "    tot = 0\n",
    "    for ele in k :\n",
    "        if(ele == \"\\n\" or ele == \" \") :\n",
    "            continue \n",
    "        m[ele] += 1 \n",
    "        tot += 1 \n",
    "    letters = list(m)\n",
    "    letters.sort()\n",
    "    counts = list(map(lambda x: m[x] , letters)) \n",
    "    percentage = list(map(lambda x : ((x/tot)*100),counts))\n",
    "    fun(letters,counts)\n",
    "    arr = list(zip(letters,counts,percentage))\n",
    "    arr.sort(key=lambda x : -x[1])\n",
    "    print(\"মোট বর্ণ {} টা\\n\".format(tot))\n",
    "    for ele in arr :\n",
    "        print(\"'{}' আছে {} টা,পার্সেন্টিজ {:.3f} % \".format(ele[0],ele[1],ele[2]))\n",
    "    \n",
    "    \n",
    "\n",
    "        \n",
    "#here the input\n",
    "inp = ''' দেশে শুঁটকির মধ্যে সবচেয়ে জনপ্রিয় ও বহুল বিক্রীত হচ্ছে লইট্টা। কক্সবাজার জেলা মৎস্য কর্মকর্তা এস এম খালেকুজ্জামানের দেওয়া তথ্যমতে, কক্সবাজার উপকূলে বছরে প্রায় ৩০০ কোটি টাকার শুঁটকি উৎপাদিত হয়। এর এক-তৃতীয়াংশ লইট্টা শুঁটকি।

গবেষক দলের সদস্য ও চট্টগ্রাম বিশ্ববিদ্যালয়ের ইনস্টিটিউট অব মেরিন সায়েন্সেসের অধ্যাপক মো. শাহাদাত হোসেন প্রথম আলোকে বলেন, ‘বিশ্বের বিভিন্ন দেশে প্লাস্টিক কণাকে আগামী দিনের জন্য অন্যতম ক্ষতিকারক উপাদান হিসেবে দেখা হচ্ছে। প্লাস্টিক ব্যবহারের ক্ষেত্রে আমাদের আরও সাবধান হতে হবে। কারণ এটি ঘুরেফিরে আমাদের দেহে প্রবেশ করছে।’

গবেষক দলের সদস্যদের ভাষ্য, যেসব প্রাণীর দেহে প্লাস্টিক কণার উপস্থিতি নিয়ে গবেষণা হয়েছে তার মধ্যে সবচেয়ে বিপজ্জনক বার্তা দিচ্ছে লইট্টা। এই মাছ শুঁটকি করার সময় এর পাকস্থলী ও পরিপাকতন্ত্র কেটে ফেলা হয় না। ফলে প্লাস্টিক কণাসহ সেটি শুঁটকিতে পরিণত হয়। খাবারের সঙ্গে তা মানুষের শরীরে প্রবেশ করে।

যদিও সার্ডিন রান্না করার ক্ষেত্রে পরিপাকতন্ত্র ফেলে দেওয়া হয়। তবে হোটেলসহ বিভিন্ন অনুষ্ঠানে বড় চিংড়ি রান্না করার ক্ষেত্রে খোলস রেখে দেওয়া হয়। ফলে প্লাস্টিক কণা ওই খোলসের মধ্যে থেকে যায়। রান্নার সঙ্গে সেটিও প্রবেশ করে মানবদেহে।

সরকারের সামুদ্রিক মৎস্য জরিপ ব্যবস্থাপনা ইউনিটের প্রধান বৈজ্ঞানিক কর্মকর্তা মো. শরিফ উদ্দিন প্রথম আলোকে বলেন, ‘আমরা সামুদ্রিক মাছের পরিমাণ ও ধরন নিয়ে জরিপ করছি। তাই সেখানকার মাছের মধ্যে যাতে ক্ষুদ্র প্লাস্টিক কণা প্রবেশ করতে না পারে, সে জন্য আমাদের আগে থেকে সাবধান হতে হবে। জেলেরা যাতে নৌকায় করে প্লাস্টিক সামগ্রী না নেয়, জাহাজ থেকে প্লাস্টিক সামগ্রী সাগরে ফেলা না হয়, সে জন্য সংশ্লিষ্টদের দায়িত্বশীল হতে হবে।’'''\n",
    "func(inp)\n",
    " "
   ]
  },
  {
   "cell_type": "code",
   "execution_count": null,
   "metadata": {},
   "outputs": [],
   "source": []
  },
  {
   "cell_type": "code",
   "execution_count": null,
   "metadata": {},
   "outputs": [],
   "source": []
  }
 ],
 "metadata": {
  "kernelspec": {
   "display_name": "Python 3",
   "language": "python",
   "name": "python3"
  },
  "language_info": {
   "codemirror_mode": {
    "name": "ipython",
    "version": 3
   },
   "file_extension": ".py",
   "mimetype": "text/x-python",
   "name": "python",
   "nbconvert_exporter": "python",
   "pygments_lexer": "ipython3",
   "version": "3.6.6"
  }
 },
 "nbformat": 4,
 "nbformat_minor": 2
}
