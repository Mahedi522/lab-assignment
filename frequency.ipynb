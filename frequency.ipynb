import numpy as np
import matplotlib.pyplot as plt
from matplotlib.font_manager import FontProperties

def fun(letters,counts) :
    y_pos = np.arange(len(letters))
    plt.figure(figsize=(23, 6)) 
    prop = FontProperties()
    prop.set_file('/home/mijuku/Downloads/Programs/Siyamrupali.ttf')
    plt.bar(y_pos, counts, align='center', alpha=0.5)
    plt.xticks(y_pos, letters, fontproperties=prop, fontsize=20)
    plt.ylabel('Frequency')
    plt.title('Bangla letter counter')

    plt.show()  In [7]:  from collections import defaultdict 

def func(k):
    m = defaultdict(int)
    tot = 0
    for ele in k :
        if(ele == "\n" or ele == " ") :
            continue 
        m[ele] += 1 
        tot += 1 
    letters = list(m)
    letters.sort()
    counts = list(map(lambda x: m[x] , letters)) 
    percentage = list(map(lambda x : ((x/tot)*100),counts))
    fun(letters,counts)
    arr = list(zip(letters,counts,percentage))
    arr.sort(key=lambda x : -x[1])
    print("মোট বর্ণ {} টা\n".format(tot))
    for ele in arr :
        print("'{}' আছে {} টা,পার্সেন্টিজ {:.3f} % ".format(ele[0],ele[1],ele[2]))
    
            
#here the input
inp = ''' পররাষ্ট্র মন্ত্রণালয় সূত্র জানায়, হযরত শাহজালাল আন্তর্জাতিক বিমানবন্দরে স্টিফেনকে স্বাগত জানান পররাষ্ট্র সচিব মাসুদ বিন মোমেন। পরে সন্ধ্যায় হোটেল ওয়েস্টিনে পররাষ্ট্র প্রতিমন্ত্রীর দেওয়া নৈশভোজে অংশ নেন স্টিফেন।বৃহস্পতিবার সকালে রাষ্ট্রীয় অতিথি ভবন পদ্মায় পররাষ্ট্রমন্ত্রী ড. মোমেনের সঙ্গে বৈঠক করবেন স্টিফেন। বৈঠকে যুক্তরাষ্ট্রের ইন্দো-প্যাসিফিক স্ট্র্যাটেজি (আইপিএস) বিষয়ে আলোচনা হবে। এ বৈঠকে রোহিঙ্গা সংকট সমাধানে যুক্তরাষ্ট্রের জোরালো সমর্থন চাইবে বাংলাদেশ। এ ছাড়া বাংলাদেশের অবকাঠামো উন্নয়নে যুক্তরাষ্ট্রের বিনিয়োগ, যুক্তরাষ্ট্রের বাজারে তৈরি পোশাক রপ্তানিতে শুল্কমুক্ত সুবিধা এবং ভিসা প্রসঙ্গ নিয়ে আলোচনা হবে। আগামী শুক্রবার সকালে ঢাকা ত্যাগ করবেন যুক্তরাষ্ট্রের উপপররাষ্ট্রমত্রী। '''

func(inp)
